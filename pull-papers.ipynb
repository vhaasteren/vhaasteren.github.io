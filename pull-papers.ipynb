{
 "cells": [
  {
   "cell_type": "code",
   "execution_count": 46,
   "id": "c3ff2fbf-4fd9-45ae-90d7-89e578ba8a39",
   "metadata": {},
   "outputs": [],
   "source": [
    "import requests"
   ]
  },
  {
   "cell_type": "code",
   "execution_count": 6,
   "id": "d5046022-279a-4987-a2a0-80155762bd70",
   "metadata": {},
   "outputs": [],
   "source": [
    "import feedparser\n",
    "from urllib.parse import quote"
   ]
  },
  {
   "cell_type": "code",
   "execution_count": 42,
   "id": "e580fced-be4f-4578-8a53-b5aeabace0cf",
   "metadata": {},
   "outputs": [],
   "source": [
    "def get_arxiv_papers(authors, max_results=100):\n",
    "    base_url = \"http://export.arxiv.org/api/query?\"\n",
    "    authors_quoted = \"|\".join([quote(author) for author in authors])\n",
    "    query = f\"search_query=au:{authors_quoted}&start=0&max_results={max_results}\"\n",
    "    url = base_url + query\n",
    "    feed = feedparser.parse(url)\n",
    "    \n",
    "    papers = []\n",
    "    for entry in feed.entries:\n",
    "        paper_info = {}\n",
    "        paper_info['title'] = entry.title\n",
    "        paper_info['published'] = entry.published\n",
    "        paper_info['authors'] = [author.name for author in entry.authors]\n",
    "        paper_info['link'] = [link.href for link in entry.links if link.type == 'text/html'][0]\n",
    "        paper_info['doi'] = entry.get('arxiv_doi', None)\n",
    "        papers.append(paper_info)\n",
    "    \n",
    "    return papers"
   ]
  },
  {
   "cell_type": "code",
   "execution_count": 69,
   "id": "c7d0ae20-592d-49ac-bca6-ab29975c7d82",
   "metadata": {},
   "outputs": [],
   "source": [
    "def generate_html_code(papers, my_names=[\"Rutger van Haasteren\", \"R. van Haasteren\"], verbose=False):\n",
    "    # Sort papers by year (newest first)\n",
    "    papers = sorted(papers, key=lambda x: x['published'], reverse=True)\n",
    "\n",
    "    html_code = \\\n",
    "\"\"\"---\n",
    "layout: default\n",
    "title: Publications\n",
    "---\n",
    "\n",
    "<h1>{{ page.title }}</h1>\n",
    "\n",
    "\"\"\"\n",
    "    for paper in papers:\n",
    "        author_text = \"\"\n",
    "        authors_list = []\n",
    "        \n",
    "        # Check if my name is in the list of all authors\n",
    "        if any(my_name in paper['authors'] for my_name in my_names):\n",
    "            for author in paper['authors'][:3]:\n",
    "                if author in my_names:\n",
    "                    authors_list.append(f\"<b>{author}</b>\")\n",
    "                else:\n",
    "                    authors_list.append(author)\n",
    "            if len(paper['authors']) > 3 and not any(my_name in paper['authors'][:3] for my_name in my_names):\n",
    "                author_text = \", \".join(authors_list) + f\", <i>et al.</i>, <b>inc. {my_names[0]}</b>\"\n",
    "            else:\n",
    "                author_text = \", \".join(authors_list)\n",
    "        else:\n",
    "            if verbose:\n",
    "                print(f\"Skipping paper: {paper['title']}\")\n",
    "            continue\n",
    "\n",
    "        # Get the year from the 'published' field\n",
    "        year = paper['published'].split('-')[0]\n",
    "        author_text += f\" ({year})\"\n",
    "        # Add title, link, and doi if available\n",
    "        title = f'\"{paper[\"title\"]}\"'\n",
    "        link = f'<a href=\"{paper[\"link\"]}\">arXiv Link</a>'\n",
    "        if paper['doi']:\n",
    "            doi = f'<a href=\"https://doi.org/{paper[\"doi\"]}\">DOI Link</a>'\n",
    "            link += f', {doi}'\n",
    "        # Create html section for each paper\n",
    "        html_code += f'<!-- {paper[\"title\"]} -->\\n<div class=\"paper\" style=\"margin-bottom: 2em;\">\\n<span style=\"font-size: larger; margin-bottom: 0.5em;\">{author_text}</span>\\n<div>{title}</div>\\n<div>{link}</div>\\n</div>\\n\\n\\n'\n",
    "\n",
    "    return html_code"
   ]
  },
  {
   "cell_type": "code",
   "execution_count": 48,
   "id": "863dfb93-07ae-4dc0-95f4-2fbd9b6dffac",
   "metadata": {},
   "outputs": [],
   "source": [
    "papers = get_arxiv_papers([\"Rutger van Haasteren\", \"R. van Haasteren\"], max_results=200)"
   ]
  },
  {
   "cell_type": "code",
   "execution_count": 70,
   "id": "2986eece-e5f9-4f85-b684-e601ed270db0",
   "metadata": {},
   "outputs": [],
   "source": [
    "html_string = generate_html_code(papers, my_names=['Rutger van Haasteren', \"R. van Haasteren\"])\n",
    "\n",
    "with open(\"./publications.html\", 'w') as fp:\n",
    "    fp.write(html_string)"
   ]
  },
  {
   "cell_type": "code",
   "execution_count": null,
   "id": "b8fa2bf8-ae9e-4a9f-a220-668aa56e75c4",
   "metadata": {},
   "outputs": [],
   "source": []
  }
 ],
 "metadata": {
  "kernelspec": {
   "display_name": "GP(10)",
   "language": "python",
   "name": "gp10"
  },
  "language_info": {
   "codemirror_mode": {
    "name": "ipython",
    "version": 3
   },
   "file_extension": ".py",
   "mimetype": "text/x-python",
   "name": "python",
   "nbconvert_exporter": "python",
   "pygments_lexer": "ipython3",
   "version": "3.10.0"
  }
 },
 "nbformat": 4,
 "nbformat_minor": 5
}
